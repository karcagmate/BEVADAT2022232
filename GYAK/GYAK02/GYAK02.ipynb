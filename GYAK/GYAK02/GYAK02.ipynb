{
 "cells": [
  {
   "cell_type": "code",
   "execution_count": 3,
   "metadata": {},
   "outputs": [],
   "source": [
    "import numpy as np\n",
    "#FONTOS!!!\n",
    "#  CSAK OTT LEHET HASZNÁLNI FOR LOOP-OT AHOL A FELADAT KÜLÖN KÉRI!\n",
    "#Készíts egy függvényt ami létre hoz egy nullákkal teli numpy array-t.\n",
    "#Paraméterei: mérete (tupel-ként), default mérete pedig legyen egy (2,2)\n",
    "#Be: (2,2)\n",
    "#Ki: [[0,0],[0,0]]\n",
    "#create_array()\n",
    "def create_array(input: tuple)->np.array:\n",
    "    \n",
    "    arr=np.zeros(input)\n",
    "    return arr\n",
    "\n",
    "    \n",
    "    \n",
    "#input=(2,2)\n",
    "#create_array(input)\n",
    "\n",
    "\n",
    "\n"
   ]
  },
  {
   "cell_type": "code",
   "execution_count": 21,
   "metadata": {},
   "outputs": [
    {
     "name": "stdout",
     "output_type": "stream",
     "text": [
      "[[1 5]\n",
      " [3 1]]\n"
     ]
    }
   ],
   "source": [
    "#Készíts egy függvényt ami a paraméterként kapott array-t főátlót feltölti egyesekkel\n",
    "#Be: [[1,2],[3,4]]\n",
    "#Ki: [[1,2],[3,1]]\n",
    "#set_one()\n",
    "def set_one(input:np.array)->np.array:\n",
    "   out= np.fill_diagonal(input, 1)\n",
    "   return out\n",
    "\n",
    "#proba=np.array([[1,5],[3,5]])\n",
    "#print(set_one(proba))"
   ]
  },
  {
   "cell_type": "code",
   "execution_count": 23,
   "metadata": {},
   "outputs": [
    {
     "data": {
      "text/plain": [
       "array([[1, 2],\n",
       "       [5, 6]])"
      ]
     },
     "execution_count": 23,
     "metadata": {},
     "output_type": "execute_result"
    }
   ],
   "source": [
    "# Transzponáld a paraméterül kapott mártix-ot:\n",
    "# Be: [[1, 2], [3, 4]]\n",
    "# Ki: [[1, 2], [3, 4]]\n",
    "# do_transpose()\n",
    "def do_transponse(input:np.array)->np.array:\n",
    "    out=np.transpose(input)\n",
    "    return out\n",
    "\n",
    "#proba=np.array([[1, 2], [5, 6]])\n",
    "#do_transponse(proba)"
   ]
  },
  {
   "cell_type": "code",
   "execution_count": 26,
   "metadata": {},
   "outputs": [
    {
     "data": {
      "text/plain": [
       "array([0.12, 0.17])"
      ]
     },
     "execution_count": 26,
     "metadata": {},
     "output_type": "execute_result"
    }
   ],
   "source": [
    "# Készíts egy olyan függvényt ami az array-ben lévő értékeket N tizenedjegyik kerekíti, alapértelmezetten \n",
    "# Be: [0.1223, 0.1675], n = 2\n",
    "# Ki: [0.12, 0.17]\n",
    "# round_array()\n",
    "def round_array(input:np.array,num:int)->np.array:\n",
    "    out_array=np.round(input,num)\n",
    "    return out_array\n",
    "\n",
    "#proba=np.array([0.1223, 0.1675])\n",
    "#round_array(proba,2)\n"
   ]
  },
  {
   "cell_type": "code",
   "execution_count": 8,
   "metadata": {},
   "outputs": [
    {
     "data": {
      "text/plain": [
       "array([[ True, False, False],\n",
       "       [ True,  True,  True],\n",
       "       [False, False, False]])"
      ]
     },
     "execution_count": 8,
     "metadata": {},
     "output_type": "execute_result"
    }
   ],
   "source": [
    "# Készíts egy olyan függvényt, ami a bementként  0 és 1 ből álló tömben a 0 - False-ra az 1 True-ra cserélni\n",
    "# Be: [[1, 0, 0], [1, 1, 1],[0, 0, 0]]\n",
    "# Ki: [[ True False False], [ True  True  True], [False False False]]\n",
    "# bool_array()\n",
    "def bool_array(inarray:np.array)->np.array:\n",
    "    newarr=inarray.astype(bool)\n",
    "    \n",
    "    return newarr\n",
    "proba=np.array([[1, 0, 0], [1, 1, 1],[0, 0, 0]])\n",
    "bool_array(proba)\n",
    "    \n"
   ]
  },
  {
   "cell_type": "code",
   "execution_count": 16,
   "metadata": {},
   "outputs": [
    {
     "ename": "AttributeError",
     "evalue": "'numpy.ndarray' object has no attribute 'reverse'",
     "output_type": "error",
     "traceback": [
      "\u001b[1;31m---------------------------------------------------------------------------\u001b[0m",
      "\u001b[1;31mAttributeError\u001b[0m                            Traceback (most recent call last)",
      "Cell \u001b[1;32mIn[16], line 11\u001b[0m\n\u001b[0;32m      8\u001b[0m     \u001b[39mreturn\u001b[39;00m newarr\n\u001b[0;32m     10\u001b[0m proba\u001b[39m=\u001b[39mnp\u001b[39m.\u001b[39marray([[\u001b[39m1\u001b[39m, \u001b[39m0\u001b[39m, \u001b[39m0\u001b[39m], [\u001b[39m1\u001b[39m, \u001b[39m1\u001b[39m, \u001b[39m1\u001b[39m],[\u001b[39m0\u001b[39m, \u001b[39m0\u001b[39m, \u001b[39m0\u001b[39m]])\n\u001b[1;32m---> 11\u001b[0m invert_bool_array(proba)\n",
      "Cell \u001b[1;32mIn[16], line 6\u001b[0m, in \u001b[0;36minvert_bool_array\u001b[1;34m(array)\u001b[0m\n\u001b[0;32m      5\u001b[0m \u001b[39mdef\u001b[39;00m \u001b[39minvert_bool_array\u001b[39m(array:np\u001b[39m.\u001b[39marray)\u001b[39m-\u001b[39m\u001b[39m>\u001b[39mnp\u001b[39m.\u001b[39marray:\n\u001b[1;32m----> 6\u001b[0m     newarr \u001b[39m=\u001b[39m array\u001b[39m.\u001b[39;49mastype(\u001b[39mbool\u001b[39;49m)\u001b[39m.\u001b[39;49mreverse()\n\u001b[0;32m      8\u001b[0m     \u001b[39mreturn\u001b[39;00m newarr\n",
      "\u001b[1;31mAttributeError\u001b[0m: 'numpy.ndarray' object has no attribute 'reverse'"
     ]
    }
   ],
   "source": [
    "# Készíts egy olyan függvényt, ami a bementként  0 és 1 ből álló tömben a 1 - False-ra az 0 True-ra cserélni\n",
    "# Be: [[1, 0, 0], [1, 1, 1],[0, 0, 0]]\n",
    "# Ki: [[ True False False], [ True  True  True], [False False False]]\n",
    "# invert_bool_array()\n",
    "def invert_bool_array(array:np.array)->np.array:\n",
    "    newarr = array.astype(bool)\n",
    "    \n",
    "    return newarr\n",
    "\n",
    "proba=np.array([[1, 0, 0], [1, 1, 1],[0, 0, 0]])\n",
    "invert_bool_array(proba)"
   ]
  },
  {
   "cell_type": "code",
   "execution_count": 29,
   "metadata": {},
   "outputs": [
    {
     "data": {
      "text/plain": [
       "array([1, 2, 3, 4])"
      ]
     },
     "execution_count": 29,
     "metadata": {},
     "output_type": "execute_result"
    }
   ],
   "source": [
    "\n",
    "# Készíts egy olyan függvényt ami a paraméterként kapott array-t kilapítja\n",
    "# Be: [[1,2], [3,4]]\n",
    "# Ki: [1,2,3,4]\n",
    "# flatten()\n",
    "def flatten(input:np.array)->np.array:\n",
    "    out=input.reshape(-1)\n",
    "    return out\n",
    "\n",
    "#proba=np.array([[1,2], [3,4]])\n",
    "#flatten(proba)\n",
    "    \n"
   ]
  }
 ],
 "metadata": {
  "kernelspec": {
   "display_name": "Python 3",
   "language": "python",
   "name": "python3"
  },
  "language_info": {
   "codemirror_mode": {
    "name": "ipython",
    "version": 3
   },
   "file_extension": ".py",
   "mimetype": "text/x-python",
   "name": "python",
   "nbconvert_exporter": "python",
   "pygments_lexer": "ipython3",
   "version": "3.10.10"
  },
  "orig_nbformat": 4
 },
 "nbformat": 4,
 "nbformat_minor": 2
}
