{
 "cells": [
  {
   "cell_type": "code",
   "execution_count": null,
   "metadata": {},
   "outputs": [],
   "source": [
    "#Create a function that decides if a list contains any odd numbers.\n",
    "#return type: bool\n",
    "#function name must be: contains_odd\n",
    "#input parameters: input_list"
   ]
  },
  {
   "cell_type": "code",
   "execution_count": 39,
   "metadata": {},
   "outputs": [
    {
     "data": {
      "text/plain": [
       "True"
      ]
     },
     "execution_count": 39,
     "metadata": {},
     "output_type": "execute_result"
    }
   ],
   "source": [
    "def  contains_odd(input_list):\n",
    "  \n",
    "  i=0\n",
    "  while((i<len(input_list)) and (not (input_list[i]%2!=0))):\n",
    "   i+=1\n",
    "  odd=(i<len(input_list))\n",
    "  return odd\n",
    "  \n",
    "listi=[2,10,1,8,4]\n",
    "contains_odd(listi)"
   ]
  },
  {
   "cell_type": "code",
   "execution_count": null,
   "metadata": {},
   "outputs": [],
   "source": []
  },
  {
   "cell_type": "code",
   "execution_count": null,
   "metadata": {},
   "outputs": [],
   "source": [
    "#Create a function that accepts a list of integers, and returns a list of bool.\n",
    "#The return list should be a \"mask\" and indicate whether the list element is odd or not.\n",
    "#(return should look like this: [True,False,False,.....])\n",
    "#return type: list\n",
    "#function name must be: is_odd\n",
    "#input parameters: input_list"
   ]
  },
  {
   "cell_type": "code",
   "execution_count": 29,
   "metadata": {},
   "outputs": [
    {
     "data": {
      "text/plain": [
       "[False, False, True, False, True, False, True, False]"
      ]
     },
     "execution_count": 29,
     "metadata": {},
     "output_type": "execute_result"
    }
   ],
   "source": [
    "def is_odd(input_list):\n",
    " mask=[]\n",
    " for index in range(len(input_list)):\n",
    "   if input_list[index]%2==0:\n",
    "    ##mask[index]=False\n",
    "    mask.append(False)\n",
    "   else:\n",
    "    ##mask[index]=True\n",
    "    mask.append(True)\n",
    " return mask\n",
    "\n",
    "\n",
    "listi=[10,2,3,4,5,6,7,8]\n",
    "is_odd(listi)\n",
    "\n"
   ]
  },
  {
   "cell_type": "code",
   "execution_count": null,
   "metadata": {},
   "outputs": [],
   "source": [
    "\n",
    "#Create a function that accpects 2 lists of integers and returns their element wise sum. <br>\n",
    "#(return should be a list)\n",
    "#return type: list\n",
    "#function name must be: element_wise_sum\n",
    "#input parameters: input_list_1, input_list_2"
   ]
  },
  {
   "cell_type": "code",
   "execution_count": 46,
   "metadata": {},
   "outputs": [
    {
     "data": {
      "text/plain": [
       "[5, 8, 11, 14, 17]"
      ]
     },
     "execution_count": 46,
     "metadata": {},
     "output_type": "execute_result"
    }
   ],
   "source": [
    "def element_wise_sum(input_list_1, input_list_2):\n",
    "    output_list=[]\n",
    "    for index1 in range(len(input_list_1)) :\n",
    "       output_list.append(input_list_1[index1]+input_list_2[index1])\n",
    "        \n",
    "           \n",
    "    return output_list\n",
    "\n",
    "list1=[1,2,3,4,5]\n",
    "list2=[4,6,8,10,12]\n",
    "element_wise_sum(list1,list2)"
   ]
  },
  {
   "cell_type": "code",
   "execution_count": null,
   "metadata": {},
   "outputs": [],
   "source": [
    "#Create a function that accepts a dictionary and returns its items as a list of tuples\n",
    "#(return should look like this: [(key,value),(key,value),....])\n",
    "#return type: list\n",
    "#function name must be: dict_to_list\n",
    "#input parameters: input_dict"
   ]
  },
  {
   "cell_type": "code",
   "execution_count": 48,
   "metadata": {},
   "outputs": [
    {
     "data": {
      "text/plain": [
       "('(first_name,John)',\n",
       " '(last_name,Doe)',\n",
       " '(age,25)',\n",
       " \"(favorite_colors,['blue', 'green'])\",\n",
       " '(active,True)')"
      ]
     },
     "execution_count": 48,
     "metadata": {},
     "output_type": "execute_result"
    }
   ],
   "source": [
    "def dict_to_list(input_dict):\n",
    "    list_help=[]\n",
    "    for key,value in input_dict.items():\n",
    "        list_help.append(f\"({key},{value})\")\n",
    "    _tuple=tuple(list_help)\n",
    "    return _tuple\n",
    "\n",
    "person = {\n",
    "    'first_name': 'John',\n",
    "    'last_name': 'Doe',\n",
    "    'age': 25,\n",
    "    'favorite_colors': ['blue', 'green'],\n",
    "    'active': True\n",
    "}\n",
    "dict_to_list(person)"
   ]
  },
  {
   "cell_type": "code",
   "execution_count": null,
   "metadata": {},
   "outputs": [],
   "source": [
    "#If all the functions are created convert this notebook into a .py file and push to your repo"
   ]
  }
 ],
 "metadata": {
  "kernelspec": {
   "display_name": "Python 3",
   "language": "python",
   "name": "python3"
  },
  "language_info": {
   "codemirror_mode": {
    "name": "ipython",
    "version": 3
   },
   "file_extension": ".py",
   "mimetype": "text/x-python",
   "name": "python",
   "nbconvert_exporter": "python",
   "pygments_lexer": "ipython3",
   "version": "3.10.10"
  },
  "orig_nbformat": 4,
  "vscode": {
   "interpreter": {
    "hash": "a5b7053500fe583bd87a7ad0e928d6cc8c110910297abf246be52f480fc46f07"
   }
  }
 },
 "nbformat": 4,
 "nbformat_minor": 2
}
