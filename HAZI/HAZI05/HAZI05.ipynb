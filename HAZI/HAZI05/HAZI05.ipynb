{
 "cells": [
  {
   "cell_type": "code",
   "execution_count": 2,
   "metadata": {},
   "outputs": [],
   "source": [
    "import pandas as pd\n",
    "path=\"diabetes.csv\"\n",
    "import random as random\n",
    "from scipy.stats import mode\n",
    "from typing import Tuple\n",
    "import seaborn as sns\n",
    "from sklearn.metrics import confusion_matrix"
   ]
  },
  {
   "cell_type": "code",
   "execution_count": 22,
   "metadata": {},
   "outputs": [
    {
     "name": "stdout",
     "output_type": "stream",
     "text": [
      "     Pregnancies  Glucose  BloodPressure  SkinThickness  Insulin   BMI  \\\n",
      "668            6       98             58             33      190  34.0   \n",
      "324            2      112             75             32        0  35.7   \n",
      "624            2      108             64              0        0  30.8   \n",
      "690            8      107             80              0        0  24.6   \n",
      "473            7      136             90              0        0  29.9   \n",
      "..           ...      ...            ...            ...      ...   ...   \n",
      "71             5      139             64             35      140  28.6   \n",
      "106            1       96            122              0        0  22.4   \n",
      "270           10      101             86             37        0  45.6   \n",
      "435            0      141              0              0        0  42.4   \n",
      "102            0      125             96              0        0  22.5   \n",
      "\n",
      "     DiabetesPedigreeFunction  Age  \n",
      "668                     0.430   43  \n",
      "324                     0.148   21  \n",
      "624                     0.158   21  \n",
      "690                     0.856   34  \n",
      "473                     0.210   50  \n",
      "..                        ...  ...  \n",
      "71                      0.411   26  \n",
      "106                     0.207   27  \n",
      "270                     1.136   38  \n",
      "435                     0.205   29  \n",
      "102                     0.262   21  \n",
      "\n",
      "[768 rows x 8 columns] 668    0\n",
      "324    0\n",
      "624    0\n",
      "690    0\n",
      "473    0\n",
      "      ..\n",
      "71     0\n",
      "106    0\n",
      "270    1\n",
      "435    1\n",
      "102    0\n",
      "Name: Outcome, Length: 768, dtype: int64\n"
     ]
    }
   ],
   "source": [
    "def loadcsv(path:str)->Tuple[pd.DataFrame,pd.DataFrame]:\n",
    "    #random.seed(42)\n",
    "    dataset=pd.read_csv(path)\n",
    "    \n",
    "    dataset=dataset.sample(frac=1,random_state=42)\n",
    "    x,y=dataset.iloc[:,:-1],dataset.iloc[:,-1]\n",
    "    return x,y\n",
    "\n",
    "x,y=loadcsv(path)\n",
    "print(x,y)"
   ]
  },
  {
   "cell_type": "code",
   "execution_count": 47,
   "metadata": {},
   "outputs": [
    {
     "name": "stdout",
     "output_type": "stream",
     "text": [
      "668    0\n",
      "324    0\n",
      "624    0\n",
      "690    0\n",
      "473    0\n",
      "      ..\n",
      "71     0\n",
      "106    0\n",
      "270    1\n",
      "435    1\n",
      "102    0\n",
      "Name: Outcome, Length: 768, dtype: int64\n"
     ]
    }
   ],
   "source": [
    "def train_test_split(featrues:pd.DataFrame,labels:pd.DataFrame,test_split_ratio:float)->Tuple[pd.DataFrame,pd.DataFrame,pd.DataFrame]:\n",
    "    test_size=int(len(featrues)*test_split_ratio)\n",
    "    train_size=len(featrues)-test_size\n",
    "    assert len(featrues)==test_size+train_size,\"Size mismatch!\"\n",
    "    x_train,y_train=featrues.iloc[:train_size,:],labels.iloc[:train_size]\n",
    "    x_test,y_test=featrues.iloc[train_size:,:],labels.iloc[train_size:]\n",
    "    return x_train,y_train,x_test,y_test\n",
    "\n",
    "x_train,y_train,x_test,y_test=train_test_split(x,y,1)\n",
    "#print(x_train)\n",
    "#print(y_train)\n",
    "#print(x_test)\n",
    "#print(y_test)\n"
   ]
  },
  {
   "cell_type": "code",
   "execution_count": 48,
   "metadata": {},
   "outputs": [],
   "source": [
    "def euclidan(points:pd.Series,element_of_x:pd.Series)->pd.Series:\n",
    "    return ((pd.Series.sum((points-element_of_x)**2,axis=1))**(1/2))"
   ]
  },
  {
   "cell_type": "code",
   "execution_count": 50,
   "metadata": {},
   "outputs": [],
   "source": [
    "def perdict(x_train:pd.Series\n",
    "            ,y_train:pd.Series\n",
    "            ,x_test:pd.Series\n",
    "            ,k:int)->pd.Series:\n",
    "    labels_pred=[]\n",
    "    for x_test_element in x_test:\n",
    "            distances= euclidan(x_train,x_test_element)\n",
    "            distances=pd.Series(sorted(zip(distances,y_train)))\n",
    "            label_pred=mode(distances[:k,1],keepdims=False).mode\n",
    "            labels_pred.append(label_pred)\n",
    "    return  pd.Series(labels_pred,dtype=int)"
   ]
  },
  {
   "cell_type": "code",
   "execution_count": 4,
   "metadata": {},
   "outputs": [],
   "source": [
    "def accuracy(y_test:pd.Series,y_preds:pd.Series) -> float:\n",
    "    true_positive = (y_test == y_preds).sum()\n",
    "    return true_positive / len(y_test) * 100"
   ]
  },
  {
   "cell_type": "code",
   "execution_count": 5,
   "metadata": {},
   "outputs": [],
   "source": [
    "def plot_confusion_matrix(y_test:pd.Series,y_preds:pd.Series):\n",
    "    conf_matrix = confusion_matrix(y_test,y_preds)\n",
    "    sns.heatmap(conf_matrix,annot=True)"
   ]
  }
 ],
 "metadata": {
  "kernelspec": {
   "display_name": "Python 3",
   "language": "python",
   "name": "python3"
  },
  "language_info": {
   "codemirror_mode": {
    "name": "ipython",
    "version": 3
   },
   "file_extension": ".py",
   "mimetype": "text/x-python",
   "name": "python",
   "nbconvert_exporter": "python",
   "pygments_lexer": "ipython3",
   "version": "3.10.10"
  },
  "orig_nbformat": 4
 },
 "nbformat": 4,
 "nbformat_minor": 2
}
