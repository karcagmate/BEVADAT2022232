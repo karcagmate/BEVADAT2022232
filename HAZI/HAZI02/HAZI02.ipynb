{
 "cells": [
  {
   "cell_type": "code",
   "execution_count": 2,
   "metadata": {},
   "outputs": [],
   "source": [
    "import numpy as np"
   ]
  },
  {
   "cell_type": "code",
   "execution_count": 25,
   "metadata": {},
   "outputs": [
    {
     "ename": "TypeError",
     "evalue": "array_equal() missing 2 required positional arguments: 'a1' and 'a2'",
     "output_type": "error",
     "traceback": [
      "\u001b[1;31m---------------------------------------------------------------------------\u001b[0m",
      "\u001b[1;31mTypeError\u001b[0m                                 Traceback (most recent call last)",
      "Cell \u001b[1;32mIn[25], line 10\u001b[0m\n\u001b[0;32m      8\u001b[0m pl1\u001b[39m=\u001b[39mnp\u001b[39m.\u001b[39marray([\u001b[39m7\u001b[39m,\u001b[39m8\u001b[39m,\u001b[39m9\u001b[39m])\n\u001b[0;32m      9\u001b[0m pl2\u001b[39m=\u001b[39mnp\u001b[39m.\u001b[39marray([\u001b[39m9\u001b[39m,\u001b[39m8\u001b[39m,\u001b[39m7\u001b[39m] )\n\u001b[1;32m---> 10\u001b[0m compare_two_array(pl1,pl2)\n",
      "Cell \u001b[1;32mIn[25], line 7\u001b[0m, in \u001b[0;36mcompare_two_array\u001b[1;34m(input1, input2)\u001b[0m\n\u001b[0;32m      6\u001b[0m \u001b[39mdef\u001b[39;00m \u001b[39mcompare_two_array\u001b[39m(input1:np\u001b[39m.\u001b[39marray,input2:np\u001b[39m.\u001b[39marray)\u001b[39m-\u001b[39m\u001b[39m>\u001b[39mnp\u001b[39m.\u001b[39marray:\n\u001b[1;32m----> 7\u001b[0m     \u001b[39mreturn\u001b[39;00m np\u001b[39m.\u001b[39;49marray_equal()\n",
      "File \u001b[1;32m<__array_function__ internals>:198\u001b[0m, in \u001b[0;36marray_equal\u001b[1;34m(*args, **kwargs)\u001b[0m\n",
      "\u001b[1;31mTypeError\u001b[0m: array_equal() missing 2 required positional arguments: 'a1' and 'a2'"
     ]
    }
   ],
   "source": [
    "#Készíts egy olyan függvényt ami összehasonlít két array-t és adjon vissza egy array-ben, hogy hol egyenlőek \n",
    "# Pl Be: [7,8,9], [9,8,7] \n",
    "# Ki: [1]\n",
    "# compare_two_array()\n",
    "# egyenlő elemszámúakra kell csak hogy működjön\n",
    "def compare_two_array(input1:np.array,input2:np.array)->np.array:\n",
    "    return np.array_equal()    \n",
    "pl1=np.array([7,8,9])\n",
    "pl2=np.array([9,8,7] )\n",
    "compare_two_array(pl1,pl2)\n"
   ]
  },
  {
   "cell_type": "code",
   "execution_count": 14,
   "metadata": {},
   "outputs": [
    {
     "data": {
      "text/plain": [
       "'sor: 3, oszlop: 3, melyseg: 1'"
      ]
     },
     "execution_count": 14,
     "metadata": {},
     "output_type": "execute_result"
    }
   ],
   "source": [
    "#Készíts egy olyan függvényt, ami vissza adja a megadott array dimenzióit:\n",
    "# Be: [[1,2,3], [4,5,6]]\n",
    "# Ki: \"sor: 2, oszlop: 3, melyseg: 1\"\n",
    "# get_array_shape()\n",
    "# 3D-vel még műküdnie kell!\n",
    "def get_array_shape(input:np.array):\n",
    "    shape=input.shape\n",
    "    if len(shape)==1:\n",
    "        return f\"sor: {shape[0]}, oszlop: 1, melyseg: 1\"\n",
    "    elif len(shape)==2:\n",
    "        return f\"sor: {shape[0]}, oszlop: {shape[1]}, melyseg: 1\"\n",
    "    elif len(shape)==3:\n",
    "        return f\"sor: {shape[0]}, oszlop: {shape[1]}, melyseg: {shape[2]}\"\n",
    "    \n",
    "\n",
    "pl=np.array([[1,2,3],[1,2,3],[1,2,3]])\n",
    "get_array_shape(pl)"
   ]
  },
  {
   "cell_type": "code",
   "execution_count": 24,
   "metadata": {},
   "outputs": [
    {
     "name": "stdout",
     "output_type": "stream",
     "text": [
      "[[0. 1. 0. 0.]\n",
      " [0. 0. 1. 0.]\n",
      " [1. 0. 0. 0.]\n",
      " [0. 0. 0. 1.]]\n"
     ]
    }
   ],
   "source": [
    "# Készíts egy olyan függvényt, aminek segítségével elő tudod állítani egy neurális hálózat tanításához szükséges Y-okat egy numpy array-ből. \n",
    "#Bementként add meg az array-t, illetve hogy mennyi class-od van. Kimenetként pedig adjon vissza egy 2d array-t, ahol a sorok az egyes elemek. Minden nullákkal teli legyen és csak ott álljon egyes, ahol a bementi tömb megjelöli\n",
    "# Be: [1, 2, 0, 3], 4\n",
    "# Ki: [[0,1,0,0], [0, 0, 1, 0], [1, 0, 0, 0], [0, 0, 0, 1]]\n",
    "# encode_Y()\n",
    "def encode_Y(input:np.array,class_num:int)->np.array:\n",
    "    num_sample=input.shape[0]\n",
    "    helper=np.zeros((num_sample,class_num))\n",
    "    for i in range(num_sample):\n",
    "        helper[i,int(input[i])]=1\n",
    "    return helper\n",
    "\n",
    "pl=np.array([1, 2, 0, 3])\n",
    "print(encode_Y(pl,4))"
   ]
  },
  {
   "cell_type": "code",
   "execution_count": null,
   "metadata": {},
   "outputs": [],
   "source": [
    "# A fenti feladatnak valósítsd meg a kiértékelését. Adj meg a 2d array-t és adj vissza a decodolt változatát\n",
    "# Be:  [[0,1,0,0], [0, 0, 1, 0], [1, 0, 0, 0], [0, 0, 0, 1]]\n",
    "# Ki:  [1, 2, 0, 3]\n",
    "# decode_Y()"
   ]
  },
  {
   "cell_type": "code",
   "execution_count": 20,
   "metadata": {},
   "outputs": [
    {
     "data": {
      "text/plain": [
       "'szilva'"
      ]
     },
     "execution_count": 20,
     "metadata": {},
     "output_type": "execute_result"
    }
   ],
   "source": [
    "# Készíts egy olyan függvényt, ami képes kiértékelni egy neurális háló eredményét! Bemenetként egy listát és egy array-t és adja vissza a legvalószínübb element a listából.\n",
    "# Be: ['alma', 'körte', 'szilva'], [0.2, 0.2, 0.6]. \n",
    "# Ki: 'szilva'\n",
    "# eval_classification()\n",
    "def eval_classification(input1:list, input2:np.array)->str:\n",
    "    index=np.argmax(input2)\n",
    "    return input1[index]\n",
    "\n",
    "pl1=['alma', 'körte', 'szilva']\n",
    "pl2=np.array([0.2, 0.2, 0.6])\n",
    "eval_classification(pl1,pl2)\n",
    "\n"
   ]
  },
  {
   "cell_type": "code",
   "execution_count": 15,
   "metadata": {},
   "outputs": [
    {
     "data": {
      "text/plain": [
       "array([-1,  2, -1,  4, -1,  6])"
      ]
     },
     "execution_count": 15,
     "metadata": {},
     "output_type": "execute_result"
    }
   ],
   "source": [
    "# Készíts egy olyan függvényt, ahol az 1D array-ben a páratlan számokat -1-re cseréli\n",
    "# Be: [1,2,3,4,5,6]\n",
    "# Ki: [-1,2,-1,4,-1,6]\n",
    "# repalce_odd_numbers()\n",
    "def replace_odd_numbers(input:np.array)->np.array:\n",
    "    return np.where(input%2==1,-1,input)\n",
    "\n",
    "pl=np.array([1,2,3,4,5,6])\n",
    "replace_odd_numbers(pl)"
   ]
  },
  {
   "cell_type": "code",
   "execution_count": 29,
   "metadata": {},
   "outputs": [
    {
     "data": {
      "text/plain": [
       "array([-1,  1,  1, -1])"
      ]
     },
     "execution_count": 29,
     "metadata": {},
     "output_type": "execute_result"
    }
   ],
   "source": [
    "# Készíts egy olyan függvényt, ami egy array értékeit -1 és 1-re változtatja, attól függően, hogy az adott elem nagyobb vagy kisebb a paraméterként megadott számnál.\n",
    "# Ha a szám kisebb mint a megadott érték, akkor -1, ha nagyobb vagy egyenlő, akkor pedig 1.\n",
    "# Be: [1, 2, 5, 0], 2\n",
    "# Ki: [-1, 1, 1, -1]\n",
    "# replace_by_value()\n",
    "def replace_by_value(input:np.array,treshold:int)->np.array:\n",
    "    input[input<treshold]=-1\n",
    "    input[input>=treshold]=1\n",
    "    return input\n",
    "\n",
    "pl=np.array([1, 2, 5, 0])\n",
    "replace_by_value(pl,2)\n"
   ]
  },
  {
   "cell_type": "code",
   "execution_count": 32,
   "metadata": {},
   "outputs": [
    {
     "data": {
      "text/plain": [
       "24"
      ]
     },
     "execution_count": 32,
     "metadata": {},
     "output_type": "execute_result"
    }
   ],
   "source": [
    "# Készítsd egy olyan függvényt, ami az array értékeit összeszorozza és az eredmény visszaadja\n",
    "# Be: [1,2,3,4]\n",
    "# Ki: 24\n",
    "# array_multi()\n",
    "# Ha több dimenziós a tömb, akkor az egész tömb elemeinek szorzatával térjen vissza\n",
    "def array_multi(input:np.array):\n",
    "    return np.prod(input)\n",
    "\n",
    "pl=np.array([1,2,3,4])\n",
    "array_multi(pl)"
   ]
  },
  {
   "cell_type": "code",
   "execution_count": 34,
   "metadata": {},
   "outputs": [
    {
     "data": {
      "text/plain": [
       "array([ 2, 12])"
      ]
     },
     "execution_count": 34,
     "metadata": {},
     "output_type": "execute_result"
    }
   ],
   "source": [
    "# Készítsd egy olyan függvényt, ami a 2D array értékeit összeszorozza és egy olyan array-el tér vissza, aminek az elemei a soroknak a szorzata\n",
    "# Be: [[1, 2], [3, 4]]\n",
    "# Ki: [2, 12]\n",
    "# array_multi_2d()\n",
    "def array_multi_2d(input:np.array)->np.array:\n",
    "    rows=np.prod(input,axis=1)\n",
    "    return rows\n",
    "\n",
    "pl=np.array([[1, 2], [3, 4]])\n",
    "array_multi_2d(pl)"
   ]
  },
  {
   "cell_type": "code",
   "execution_count": 36,
   "metadata": {},
   "outputs": [
    {
     "data": {
      "text/plain": [
       "array([[0., 0., 0., 0.],\n",
       "       [0., 1., 2., 0.],\n",
       "       [0., 3., 4., 0.],\n",
       "       [0., 0., 0., 0.]])"
      ]
     },
     "execution_count": 36,
     "metadata": {},
     "output_type": "execute_result"
    }
   ],
   "source": [
    "# Készíts egy olyan függvényt, amit egy meglévő numpy array-hez készít egy bordert nullásokkal. Bementként egy array-t várjon és kimenetként egy array jelenjen meg aminek van border-je\n",
    "# Be: [[1,2],[3,4]]\n",
    "# Ki: [[0,0,0,0],[0,1,2,0],[0,3,4,0],[0,0,0,0]]\n",
    "# add_border()\n",
    "def add_border(input:np.array)->np.array:\n",
    "    ori=input.shape\n",
    "    border=(ori[0]+2,ori[1]+2)\n",
    "    out=np.zeros(border)\n",
    "    out[1:-1,1:-1]=input\n",
    "    return out\n",
    "\n",
    "pl=np.array([[1,2],[3,4]])\n",
    "add_border(pl)"
   ]
  },
  {
   "cell_type": "code",
   "execution_count": 27,
   "metadata": {},
   "outputs": [
    {
     "data": {
      "text/plain": [
       "['2023-03-01',\n",
       " '2023-03-02',\n",
       " '2023-03-03',\n",
       " '2023-03-04',\n",
       " '2023-03-05',\n",
       " '2023-03-06',\n",
       " '2023-03-07',\n",
       " '2023-03-08',\n",
       " '2023-03-09',\n",
       " '2023-03-10',\n",
       " '2023-03-11',\n",
       " '2023-03-12',\n",
       " '2023-03-13',\n",
       " '2023-03-14',\n",
       " '2023-03-15',\n",
       " '2023-03-16',\n",
       " '2023-03-17',\n",
       " '2023-03-18',\n",
       " '2023-03-19',\n",
       " '2023-03-20',\n",
       " '2023-03-21',\n",
       " '2023-03-22',\n",
       " '2023-03-23',\n",
       " '2023-03-24',\n",
       " '2023-03-25',\n",
       " '2023-03-26',\n",
       " '2023-03-27',\n",
       " '2023-03-28',\n",
       " '2023-03-29',\n",
       " '2023-03-30',\n",
       " '2023-03-31',\n",
       " '2023-04-01']"
      ]
     },
     "execution_count": 27,
     "metadata": {},
     "output_type": "execute_result"
    }
   ],
   "source": [
    "# Készíts egy olyan függvényt ami két dátum között felsorolja az összes napot.\n",
    "# Be: '2023-03', '2023-04'\n",
    "# Ki: ['2023-03-01', '2023-03-02', .. , '2023-03-31',]\n",
    "# list_days()\n",
    "from datetime import timedelta,datetime\n",
    "def list_days(start,finish):\n",
    "    starter = datetime.strptime(start, '%Y-%m')\n",
    "    end = datetime.strptime(finish, '%Y-%m')\n",
    "    delta=timedelta(days=1)\n",
    "    out=[]\n",
    "    while starter<=end:\n",
    "        out.append(starter.strftime('%Y-%m-%d'))\n",
    "        starter+=delta\n",
    "    return out\n",
    "\n",
    "starti='2023-03'\n",
    "fin='2023-04'\n",
    "list_days(starti,fin)\n",
    "\n",
    "\n"
   ]
  },
  {
   "cell_type": "code",
   "execution_count": 22,
   "metadata": {},
   "outputs": [
    {
     "data": {
      "text/plain": [
       "'2023-03-07'"
      ]
     },
     "execution_count": 22,
     "metadata": {},
     "output_type": "execute_result"
    }
   ],
   "source": [
    " #Írj egy fügvényt ami vissza adja az aktuális dátumot az alábbi formában: YYYY-MM-DD\n",
    "# Be:\n",
    "# Ki: 2017-03-24 \n",
    "from datetime import datetime\n",
    "def datetime_now():\n",
    "    return datetime.now().strftime('%Y-%m-%d')\n",
    "\n",
    "datetime_now()"
   ]
  },
  {
   "cell_type": "code",
   "execution_count": 26,
   "metadata": {},
   "outputs": [
    {
     "data": {
      "text/plain": [
       "1678220406"
      ]
     },
     "execution_count": 26,
     "metadata": {},
     "output_type": "execute_result"
    }
   ],
   "source": [
    "# Írj egy olyan függvényt ami visszadja, hogy mennyi másodperc telt el 1970 január 01. 00:00:00 óta.\n",
    "# Be: \n",
    "# Ki: másodpercben az idó, int-é kasztolva\n",
    "# sec_from_1970()\n",
    "import time\n",
    "def sec_from_1970()->int:\n",
    "    return int(time.time())\n",
    "\n",
    "sec_from_1970()"
   ]
  }
 ],
 "metadata": {
  "kernelspec": {
   "display_name": "Python 3",
   "language": "python",
   "name": "python3"
  },
  "language_info": {
   "codemirror_mode": {
    "name": "ipython",
    "version": 3
   },
   "file_extension": ".py",
   "mimetype": "text/x-python",
   "name": "python",
   "nbconvert_exporter": "python",
   "pygments_lexer": "ipython3",
   "version": "3.10.10"
  },
  "orig_nbformat": 4
 },
 "nbformat": 4,
 "nbformat_minor": 2
}
